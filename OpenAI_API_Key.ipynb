{
  "cells": [
    {
      "cell_type": "code",
      "execution_count": 1,
      "metadata": {
        "colab": {
          "base_uri": "https://localhost:8080/"
        },
        "id": "K-sXG6VPpfHS",
        "outputId": "a7ee75ff-d9c6-4453-8097-8396ccfdc596"
      },
      "outputs": [
        {
          "name": "stdout",
          "output_type": "stream",
          "text": [
            "Collecting openai==0.28\n",
            "  Downloading openai-0.28.0-py3-none-any.whl (76 kB)\n",
            "\u001b[?25l     \u001b[90m━━━━━━━━━━━━━━━━━━━━━━━━━━━━━━━━━━━━━━━━\u001b[0m \u001b[32m0.0/76.5 kB\u001b[0m \u001b[31m?\u001b[0m eta \u001b[36m-:--:--\u001b[0m\r\u001b[2K     \u001b[90m━━━━━━━━━━━━━━━━━━━━━━━━━━━━━━━━━━━━━━━━\u001b[0m \u001b[32m76.5/76.5 kB\u001b[0m \u001b[31m2.6 MB/s\u001b[0m eta \u001b[36m0:00:00\u001b[0m\n",
            "\u001b[?25hRequirement already satisfied: requests>=2.20 in /usr/local/lib/python3.10/dist-packages (from openai==0.28) (2.31.0)\n",
            "Requirement already satisfied: tqdm in /usr/local/lib/python3.10/dist-packages (from openai==0.28) (4.66.2)\n",
            "Requirement already satisfied: aiohttp in /usr/local/lib/python3.10/dist-packages (from openai==0.28) (3.9.5)\n",
            "Requirement already satisfied: charset-normalizer<4,>=2 in /usr/local/lib/python3.10/dist-packages (from requests>=2.20->openai==0.28) (3.3.2)\n",
            "Requirement already satisfied: idna<4,>=2.5 in /usr/local/lib/python3.10/dist-packages (from requests>=2.20->openai==0.28) (3.7)\n",
            "Requirement already satisfied: urllib3<3,>=1.21.1 in /usr/local/lib/python3.10/dist-packages (from requests>=2.20->openai==0.28) (2.0.7)\n",
            "Requirement already satisfied: certifi>=2017.4.17 in /usr/local/lib/python3.10/dist-packages (from requests>=2.20->openai==0.28) (2024.2.2)\n",
            "Requirement already satisfied: aiosignal>=1.1.2 in /usr/local/lib/python3.10/dist-packages (from aiohttp->openai==0.28) (1.3.1)\n",
            "Requirement already satisfied: attrs>=17.3.0 in /usr/local/lib/python3.10/dist-packages (from aiohttp->openai==0.28) (23.2.0)\n",
            "Requirement already satisfied: frozenlist>=1.1.1 in /usr/local/lib/python3.10/dist-packages (from aiohttp->openai==0.28) (1.4.1)\n",
            "Requirement already satisfied: multidict<7.0,>=4.5 in /usr/local/lib/python3.10/dist-packages (from aiohttp->openai==0.28) (6.0.5)\n",
            "Requirement already satisfied: yarl<2.0,>=1.0 in /usr/local/lib/python3.10/dist-packages (from aiohttp->openai==0.28) (1.9.4)\n",
            "Requirement already satisfied: async-timeout<5.0,>=4.0 in /usr/local/lib/python3.10/dist-packages (from aiohttp->openai==0.28) (4.0.3)\n",
            "Installing collected packages: openai\n",
            "Successfully installed openai-0.28.0\n"
          ]
        }
      ],
      "source": [
        "!pip install openai==0.28\n"
      ]
    },
    {
      "cell_type": "code",
      "execution_count": 2,
      "metadata": {
        "colab": {
          "base_uri": "https://localhost:8080/"
        },
        "id": "REWUpI85uCyy",
        "outputId": "c0f038ae-4101-4801-a5bc-e2a471b0f555"
      },
      "outputs": [
        {
          "name": "stdout",
          "output_type": "stream",
          "text": [
            "Enter your OpenAI API key:··········\n"
          ]
        }
      ],
      "source": [
        "import getpass\n",
        "api_key = getpass.getpass('Enter your OpenAI API key:')\n"
      ]
    },
    {
      "cell_type": "code",
      "execution_count": 3,
      "metadata": {
        "id": "MtHdeqfRvIcZ"
      },
      "outputs": [],
      "source": [
        "import os\n",
        "os.environ[\"OPENAI_API_KEY\"] = api_key\n"
      ]
    },
    {
      "cell_type": "code",
      "execution_count": 4,
      "metadata": {
        "colab": {
          "base_uri": "https://localhost:8080/"
        },
        "id": "1vgXWim2we2v",
        "outputId": "8476cc61-24b1-4efe-db76-eff0f585e0e1"
      },
      "outputs": [
        {
          "name": "stdout",
          "output_type": "stream",
          "text": [
            "Requirement already satisfied: openai==0.28 in /usr/local/lib/python3.10/dist-packages (0.28.0)\n",
            "Requirement already satisfied: requests>=2.20 in /usr/local/lib/python3.10/dist-packages (from openai==0.28) (2.31.0)\n",
            "Requirement already satisfied: tqdm in /usr/local/lib/python3.10/dist-packages (from openai==0.28) (4.66.2)\n",
            "Requirement already satisfied: aiohttp in /usr/local/lib/python3.10/dist-packages (from openai==0.28) (3.9.5)\n",
            "Requirement already satisfied: charset-normalizer<4,>=2 in /usr/local/lib/python3.10/dist-packages (from requests>=2.20->openai==0.28) (3.3.2)\n",
            "Requirement already satisfied: idna<4,>=2.5 in /usr/local/lib/python3.10/dist-packages (from requests>=2.20->openai==0.28) (3.7)\n",
            "Requirement already satisfied: urllib3<3,>=1.21.1 in /usr/local/lib/python3.10/dist-packages (from requests>=2.20->openai==0.28) (2.0.7)\n",
            "Requirement already satisfied: certifi>=2017.4.17 in /usr/local/lib/python3.10/dist-packages (from requests>=2.20->openai==0.28) (2024.2.2)\n",
            "Requirement already satisfied: aiosignal>=1.1.2 in /usr/local/lib/python3.10/dist-packages (from aiohttp->openai==0.28) (1.3.1)\n",
            "Requirement already satisfied: attrs>=17.3.0 in /usr/local/lib/python3.10/dist-packages (from aiohttp->openai==0.28) (23.2.0)\n",
            "Requirement already satisfied: frozenlist>=1.1.1 in /usr/local/lib/python3.10/dist-packages (from aiohttp->openai==0.28) (1.4.1)\n",
            "Requirement already satisfied: multidict<7.0,>=4.5 in /usr/local/lib/python3.10/dist-packages (from aiohttp->openai==0.28) (6.0.5)\n",
            "Requirement already satisfied: yarl<2.0,>=1.0 in /usr/local/lib/python3.10/dist-packages (from aiohttp->openai==0.28) (1.9.4)\n",
            "Requirement already satisfied: async-timeout<5.0,>=4.0 in /usr/local/lib/python3.10/dist-packages (from aiohttp->openai==0.28) (4.0.3)\n"
          ]
        }
      ],
      "source": [
        "!pip install openai==0.28\n"
      ]
    },
    {
      "cell_type": "code",
      "execution_count": 5,
      "metadata": {
        "colab": {
          "base_uri": "https://localhost:8080/"
        },
        "id": "hbxUIWnCjSg4",
        "outputId": "26f32bbc-bda7-4e47-93df-b785321ac106"
      },
      "outputs": [
        {
          "name": "stdout",
          "output_type": "stream",
          "text": [
            "Collecting python-dotenv\n",
            "  Downloading python_dotenv-1.0.1-py3-none-any.whl (19 kB)\n",
            "Installing collected packages: python-dotenv\n",
            "Successfully installed python-dotenv-1.0.1\n"
          ]
        }
      ],
      "source": [
        "!pip install python-dotenv\n"
      ]
    },
    {
      "cell_type": "code",
      "execution_count": 6,
      "metadata": {
        "id": "uONN8aHBv8by"
      },
      "outputs": [],
      "source": [
        "import openai\n",
        "import os\n",
        "\n",
        "from dotenv import load_dotenv, find_dotenv\n",
        "_ = load_dotenv(find_dotenv()) # read local .env file\n",
        "\n",
        "openai.api_key  = os.getenv('OPENAI_API_KEY')"
      ]
    },
    {
      "cell_type": "code",
      "execution_count": 7,
      "metadata": {
        "id": "nJdrVsfTxYKG"
      },
      "outputs": [],
      "source": [
        "def get_completion(prompt, model=\"gpt-3.5-turbo\"):\n",
        "    messages = [{\"role\": \"user\", \"content\": prompt}]\n",
        "    response = openai.ChatCompletion.create(\n",
        "        model=model,\n",
        "        messages=messages,\n",
        "        temperature=0, # this is the degree of randomness of the model's output\n",
        "    )\n",
        "    return response.choices[0].message[\"content\"]"
      ]
    },
    {
      "cell_type": "code",
      "execution_count": 8,
      "metadata": {
        "colab": {
          "base_uri": "https://localhost:8080/"
        },
        "id": "U2_UFLzf4TXw",
        "outputId": "5a9c295b-8ba8-4091-d787-420c5f1ed1e3"
      },
      "outputs": [
        {
          "name": "stdout",
          "output_type": "stream",
          "text": [
            "Question: What is sustainable energy?\n",
            "Answer: Sustainable energy refers to energy sources that are renewable and have minimal impact on the environment. These sources include solar, wind, hydro, geothermal, and biomass energy. Unlike fossil fuels, which are finite and contribute to climate change, sustainable energy sources can be replenished and do not emit harmful pollutants. The use of sustainable energy is essential for reducing carbon emissions and mitigating the effects of climate change. It also promotes energy independence and can create jobs in the renewable energy sector.\n",
            "\n",
            "Question: Why is it important?\n",
            "Answer: 1. Guides decision-making: Understanding the importance of something helps us make better decisions. It allows us to prioritize and focus on what is truly important and necessary.\n",
            "\n",
            "2. Motivates action: When we understand the importance of something, we are more likely to take action and put in the effort to achieve it. This can lead to personal growth, success, and fulfillment.\n",
            "\n",
            "3. Provides direction and purpose: Knowing what is important gives us a sense of direction and purpose in life. It helps us set goals and work towards them, giving our lives meaning and direction.\n",
            "\n",
            "4. Builds self-awareness: Understanding what is important to us can help us gain a better understanding of ourselves. It allows us to identify our values, beliefs, and priorities\n",
            "\n",
            "Question: How can we promote sustainable energy?\n",
            "Answer: 1. Educate the public: The first step in promoting sustainable energy is to educate the public about its importance and benefits. This can be done through awareness campaigns, workshops, and educational programs.\n",
            "\n",
            "2. Incentivize renewable energy: Governments can provide incentives such as tax breaks, subsidies, and grants to individuals and businesses that invest in renewable energy sources.\n",
            "\n",
            "3. Increase access to renewable energy: Governments and organizations can work towards increasing access to renewable energy by investing in infrastructure and making it more affordable for people to switch to sustainable energy sources.\n",
            "\n",
            "4. Encourage energy efficiency: Promoting energy efficiency can reduce the demand for energy and make it easier to transition to sustainable energy sources. This can be done through energy audits, energy-efficient building codes\n",
            "\n"
          ]
        }
      ],
      "source": [
        "import openai\n",
        "import os\n",
        "\n",
        "from dotenv import load_dotenv, find_dotenv\n",
        "_ = load_dotenv(find_dotenv())  # Read local .env file\n",
        "\n",
        "openai.api_key = os.getenv('OPENAI_API_KEY')\n",
        "\n",
        "# Adjusted function to use the appropriate model with the correct endpoint\n",
        "def get_completion(prompt, model=\"gpt-3.5-turbo-instruct\"):\n",
        "    response = openai.Completion.create(\n",
        "        model=model,\n",
        "        prompt=prompt,\n",
        "        max_tokens=150,\n",
        "        temperature=0  # This controls the randomness of the model's output\n",
        "    )\n",
        "    return response.choices[0].text.strip()\n",
        "\n",
        "# Now, correctly use get_completion for all tasks\n",
        "topics = [\"What is sustainable energy?\", \"Why is it important?\", \"How can we promote sustainable energy?\"]\n",
        "for question in topics:\n",
        "    answer = get_completion(question)\n",
        "    print(f\"Question: {question}\")\n",
        "    print(f\"Answer: {answer}\\n\")\n"
      ]
    },
    {
      "cell_type": "markdown",
      "metadata": {
        "id": "Ap-WKZSuSW9F"
      },
      "source": [
        "## a. Ask the bot to solve one complex math problem."
      ]
    },
    {
      "cell_type": "code",
      "execution_count": 9,
      "metadata": {
        "colab": {
          "base_uri": "https://localhost:8080/"
        },
        "id": "bqZtYDv7SVC-",
        "outputId": "45b98e3b-e4e1-44ad-f252-dc997a16d3a7"
      },
      "outputs": [
        {
          "name": "stdout",
          "output_type": "stream",
          "text": [
            "Math Problem: Solve the integral of e^x * sin(x) dx.\n",
            "Solution: ∫e^x * sin(x) dx\n",
            "\n",
            "= e^x * (-cos(x)) - ∫(-cos(x)) * e^x dx [Integration by parts]\n",
            "\n",
            "= -e^x * cos(x) + ∫e^x * cos(x) dx\n",
            "\n",
            "= -e^x * cos(x) + e^x * sin(x) - ∫e^x * sin(x) dx [Integration by parts]\n",
            "\n",
            "Adding ∫e^x * sin(x) dx to both sides, we get:\n",
            "\n",
            "2∫e^x * sin(x) dx = -e^x * cos(x) + e^x * sin(x) + C\n",
            "\n",
            "∫e^x * sin(x)\n",
            "\n"
          ]
        }
      ],
      "source": [
        "math_problem = \"Solve the integral of e^x * sin(x) dx.\"\n",
        "math_solution = get_completion(math_problem)\n",
        "print(f\"Math Problem: {math_problem}\")\n",
        "print(f\"Solution: {math_solution}\\n\")\n",
        "\n",
        "# solution = calculate_derivative_at_point(function, point)\n",
        "# print(\"Derivative at the specified point:\", solution)\n"
      ]
    },
    {
      "cell_type": "code",
      "execution_count": 10,
      "metadata": {
        "colab": {
          "base_uri": "https://localhost:8080/"
        },
        "id": "zZSzmODdmwKr",
        "outputId": "7320804d-6352-43ea-a967-4afaac2c59bc"
      },
      "outputs": [
        {
          "name": "stdout",
          "output_type": "stream",
          "text": [
            "Integral at the specified point: To calculate the integral of the function f(x) = e^x * sin(x) dx, we can use integration by parts method.\n",
            "\n",
            "Let u = sin(x) and dv = e^x dx\n",
            "Then, du = cos(x) dx and v = e^x\n",
            "\n",
            "Using the integration by parts formula ∫u dv = uv - ∫v du, we have:\n",
            "\n",
            "∫e^x * sin(x) dx = e^x * sin(x) - ∫e^x * cos(x) dx\n",
            "\n",
            "Now, we need to compute the integral of e^x * cos(x) dx. We will use integration by parts again.\n",
            "\n",
            "Let u = cos(x) and dv = e^x dx\n",
            "Then, du = -sin(x) dx and v = e^x\n",
            "\n",
            "Now, applying the integration by parts formula again, we get:\n",
            "\n",
            "∫e^x * cos(x) dx = e^x * cos(x) + ∫e^x * sin(x) dx\n",
            "\n",
            "Substitute this back into the previous integral:\n",
            "\n",
            "∫e^x * sin(x) dx = e^x * sin(x) - (e^x * cos(x) + ∫e^x * sin(x) dx)\n",
            "\n",
            "Rearranging terms, we get:\n",
            "\n",
            "2∫e^x * sin(x) dx = e^x * (sin(x)-cos(x))\n",
            "\n",
            "Therefore, ∫e^x * sin(x) dx = 0.5 * e^x * (sin(x) - cos(x)) + C\n",
            "\n",
            "Now, we can evaluate this integral at x = 3:\n",
            "\n",
            "∫e^x * sin(x) dx | from 0 to 3 = 0.5 * e^3 * (sin(3) - cos(3)) - 0.5 * e^0 * (sin(0) - cos(0))\n",
            "= 0.5 * e^3 * (sin(3) - cos(3)) - 0.5 * (sin(0) - cos(0))\n",
            "= 0.5 * e^3 * (sin(3) - cos(3)) + 0.5\n",
            "\n",
            "Therefore, the value of the integral of e^x * sin(x) dx evaluated at x = 3 is approximately 4.114.\n"
          ]
        }
      ],
      "source": [
        "def calculate_integral_at_point(function, point):\n",
        "    prompt = (\n",
        "        \"I need to calculate the integral of a function and evaluate it at a specific point. \"\n",
        "        f\"The function is: {function}. \"\n",
        "        f\"Calculate the integral and evaluate it at x = {point}.\"\n",
        "    )\n",
        "\n",
        "    try:\n",
        "        response = openai.ChatCompletion.create(\n",
        "            model=\"gpt-3.5-turbo\",  # Ensure you have access to this model, or use an available equivalent.\n",
        "            messages=[\n",
        "                {\"role\": \"system\", \"content\": \"You are a knowledgeable math assistant capable of solving calculus problems.\"},\n",
        "                {\"role\": \"user\", \"content\": prompt}\n",
        "            ]\n",
        "        )\n",
        "        return response.choices[0].message['content']\n",
        "    except Exception as e:\n",
        "        print(\"An error occurred:\", e)\n",
        "\n",
        "# Example usage\n",
        "function = \" e^x * sin(x) dx.\"\n",
        "point = 3\n",
        "integral_solution = calculate_integral_at_point(function, point)\n",
        "print(\"Integral at the specified point:\",integral_solution)"
      ]
    },
    {
      "cell_type": "markdown",
      "metadata": {
        "id": "arKesawASobG"
      },
      "source": [
        "## b. Give a PDF and website document; ask the bot to rewrite and answer questions on the given PDF and website."
      ]
    },
    {
      "cell_type": "code",
      "execution_count": 11,
      "metadata": {
        "colab": {
          "base_uri": "https://localhost:8080/"
        },
        "id": "rpUH6sUCz7G5",
        "outputId": "491ef39d-db8e-4ce6-ce3c-5e9515dc0bd1"
      },
      "outputs": [
        {
          "name": "stdout",
          "output_type": "stream",
          "text": [
            "Collecting PyPDF2\n",
            "  Downloading pypdf2-3.0.1-py3-none-any.whl (232 kB)\n",
            "\u001b[?25l     \u001b[90m━━━━━━━━━━━━━━━━━━━━━━━━━━━━━━━━━━━━━━━━\u001b[0m \u001b[32m0.0/232.6 kB\u001b[0m \u001b[31m?\u001b[0m eta \u001b[36m-:--:--\u001b[0m\r\u001b[2K     \u001b[91m━━━━━━━━━━━━━━━━━━━━━━━━━━━━━━━━━━━━━━\u001b[0m\u001b[91m╸\u001b[0m\u001b[90m━\u001b[0m \u001b[32m225.3/232.6 kB\u001b[0m \u001b[31m7.6 MB/s\u001b[0m eta \u001b[36m0:00:01\u001b[0m\r\u001b[2K     \u001b[90m━━━━━━━━━━━━━━━━━━━━━━━━━━━━━━━━━━━━━━━━\u001b[0m \u001b[32m232.6/232.6 kB\u001b[0m \u001b[31m6.2 MB/s\u001b[0m eta \u001b[36m0:00:00\u001b[0m\n",
            "\u001b[?25hInstalling collected packages: PyPDF2\n",
            "Successfully installed PyPDF2-3.0.1\n"
          ]
        }
      ],
      "source": [
        "!pip install PyPDF2"
      ]
    },
    {
      "cell_type": "code",
      "execution_count": 12,
      "metadata": {
        "id": "IYoAsrveS0k-"
      },
      "outputs": [],
      "source": [
        "import PyPDF2"
      ]
    },
    {
      "cell_type": "code",
      "execution_count": 13,
      "metadata": {
        "id": "R9eW-0YGyjlq"
      },
      "outputs": [],
      "source": [
        "# Function to extract text from PDF\n",
        "def extract_text_from_pdf(pdf_path):\n",
        "    with open(pdf_path, 'rb') as f:\n",
        "        reader = PyPDF2.PdfReader(f)\n",
        "        text = ''\n",
        "        for page_num in range(len(reader.pages)):\n",
        "            text += reader.pages[page_num].extract_text()\n",
        "        return text\n",
        "\n",
        "# Function to generate dataloader format\n",
        "def create_dataloader(text):\n",
        "    return {\"text\": text}"
      ]
    },
    {
      "cell_type": "code",
      "execution_count": 14,
      "metadata": {
        "id": "VShV_edIz_pg"
      },
      "outputs": [],
      "source": [
        "# PDF path\n",
        "pdf_path = '/content/doc.pdf'\n",
        "\n",
        "# Extract text from PDF\n",
        "pdf_text = extract_text_from_pdf(pdf_path)\n",
        "\n",
        "# Create dataloader format\n",
        "data_loader = create_dataloader(pdf_text)"
      ]
    },
    {
      "cell_type": "code",
      "execution_count": 15,
      "metadata": {
        "colab": {
          "base_uri": "https://localhost:8080/"
        },
        "id": "QNjOaVSS2lEv",
        "outputId": "88e3790b-71ea-4818-c0bc-a0265416790d"
      },
      "outputs": [
        {
          "name": "stdout",
          "output_type": "stream",
          "text": [
            "1. The PDF document primarily addresses the issue of privacy in vehicular communication systems.\n",
            "2. The advanced technology central to the solutions presented in the PDF is the use of pseudonymization techniques.\n",
            "3. The researchers behind this study are from the Technical University of Munich and the University of Passau. Their technical roles include computer science and engineering.\n",
            "4. The specific technical solution proposed in the document for enhancing vehicular privacy is the use of a decentralized pseudonym management system.\n",
            "5. The research in the document is associated with the Department of Computer Science at the Technical University of Munich and the Department of Computer Science and Mathematics at the University of Passau.\n"
          ]
        }
      ],
      "source": [
        "prompt = \"\"\"\n",
        "Please write the summary of this PDF document in 5 lines and answer the following questions based on it:\n",
        "1. What technological problem does the PDF primarily address?\n",
        "2. Which advanced technology is central to the solutions presented in the PDF?\n",
        "3. Who are the researchers behind this study, and what are their technical roles?\n",
        "4.What is the specific technical solution proposed in the document for enhancing vehicular privacy?\n",
        "5. What technical departments or universities are associated with the research in the document?\n",
        "\"\"\".format(data_loader['text'])\n",
        "\n",
        "response = get_completion(prompt)\n",
        "print(response)"
      ]
    },
    {
      "cell_type": "code",
      "execution_count": 16,
      "metadata": {
        "id": "k3mExozj8tnC"
      },
      "outputs": [],
      "source": [
        "def summarize_interactions(interactions_log):\n",
        "    combined_text = \"Summarize the following chat interactions:\\n\\n\"\n",
        "    for interaction in interactions_log:\n",
        "        combined_text += f\"Prompt: {interaction['prompt']}\\nResponse: {interaction['response']}\\n\\n\"\n",
        "\n",
        "    # Generate summary using the GPT model\n",
        "    summary_response = openai.ChatCompletion.create(\n",
        "        model=\"gpt-3.5-turbo\",\n",
        "        messages=[{\"role\": \"user\", \"content\": combined_text}],\n",
        "        temperature=0.5,  # A bit of creativity in summarizing\n",
        "    )\n",
        "    return summary_response.choices[0].message[\"content\"]\n"
      ]
    },
    {
      "cell_type": "code",
      "execution_count": 17,
      "metadata": {
        "colab": {
          "base_uri": "https://localhost:8080/"
        },
        "id": "YzyU8LLc8NSP",
        "outputId": "95dd092e-9329-4c6e-d087-e65c9865369a"
      },
      "outputs": [
        {
          "name": "stdout",
          "output_type": "stream",
          "text": [
            "Collecting PyMuPDF\n",
            "  Downloading PyMuPDF-1.24.2-cp310-none-manylinux2014_x86_64.whl (3.5 MB)\n",
            "\u001b[2K     \u001b[90m━━━━━━━━━━━━━━━━━━━━━━━━━━━━━━━━━━━━━━━━\u001b[0m \u001b[32m3.5/3.5 MB\u001b[0m \u001b[31m21.0 MB/s\u001b[0m eta \u001b[36m0:00:00\u001b[0m\n",
            "\u001b[?25hRequirement already satisfied: beautifulsoup4 in /usr/local/lib/python3.10/dist-packages (4.12.3)\n",
            "Collecting PyMuPDFb==1.24.1 (from PyMuPDF)\n",
            "  Downloading PyMuPDFb-1.24.1-py3-none-manylinux2014_x86_64.manylinux_2_17_x86_64.whl (30.8 MB)\n",
            "\u001b[2K     \u001b[90m━━━━━━━━━━━━━━━━━━━━━━━━━━━━━━━━━━━━━━━━\u001b[0m \u001b[32m30.8/30.8 MB\u001b[0m \u001b[31m47.9 MB/s\u001b[0m eta \u001b[36m0:00:00\u001b[0m\n",
            "\u001b[?25hRequirement already satisfied: soupsieve>1.2 in /usr/local/lib/python3.10/dist-packages (from beautifulsoup4) (2.5)\n",
            "Installing collected packages: PyMuPDFb, PyMuPDF\n",
            "Successfully installed PyMuPDF-1.24.2 PyMuPDFb-1.24.1\n"
          ]
        }
      ],
      "source": [
        "pip install PyMuPDF beautifulsoup4"
      ]
    },
    {
      "cell_type": "code",
      "execution_count": 18,
      "metadata": {
        "colab": {
          "base_uri": "https://localhost:8080/"
        },
        "id": "tkAkAL0yjAsB",
        "outputId": "89b99b3d-4d89-4db9-9c25-efa582cf6a7e"
      },
      "outputs": [
        {
          "name": "stdout",
          "output_type": "stream",
          "text": [
            "Requirement already satisfied: PyMuPDF in /usr/local/lib/python3.10/dist-packages (1.24.2)\n",
            "Requirement already satisfied: PyMuPDFb==1.24.1 in /usr/local/lib/python3.10/dist-packages (from PyMuPDF) (1.24.1)\n"
          ]
        }
      ],
      "source": [
        "!pip install PyMuPDF"
      ]
    },
    {
      "cell_type": "code",
      "execution_count": 19,
      "metadata": {
        "id": "I2-zvI0rjj_9"
      },
      "outputs": [],
      "source": [
        "import fitz  # PyMuPDF for PDF handling\n",
        "from bs4 import BeautifulSoup  # For HTML content parsing\n",
        "\n",
        "def load_pdf_content(pdf_path):\n",
        "    doc = fitz.open(pdf_path)\n",
        "    text = \"\"\n",
        "    for page in doc:\n",
        "        text += page.get_text()\n",
        "    return text\n",
        "\n",
        "def load_html_content(html_path):\n",
        "    with open(html_path, 'r', encoding='utf-8') as file:\n",
        "        soup = BeautifulSoup(file, 'html.parser')\n",
        "        return soup.get_text()\n",
        "\n",
        "# Example usage\n",
        "pdf_path = '/content/doc.pdf'\n",
        "html_path = '/content/germany.html'\n",
        "pdf_content = load_pdf_content(pdf_path)\n",
        "html_content = load_html_content(html_path)"
      ]
    },
    {
      "cell_type": "code",
      "execution_count": 20,
      "metadata": {
        "colab": {
          "base_uri": "https://localhost:8080/"
        },
        "id": "1lhJqu1_j39z",
        "outputId": "44af2cf3-c92a-4405-caf2-3016a9cf2193"
      },
      "outputs": [
        {
          "name": "stdout",
          "output_type": "stream",
          "text": [
            "Rewritten PDF Content and Answers:\n",
            " Title: Privacy-Preserving Auto-Driving: a GAN-based Approach to Protect Vehicular Camera Data\n",
            "\n",
            "Authors: Zuobin Xiong, Wei Li, Qilong Han, Zhipeng Cai\n",
            "\n",
            "Main technology: Generative Adversarial Networks (GAN)\n",
            "\n",
            "Keywords:\n",
            "1. Autonomous driving\n",
            "2. Location privacy\n",
            "3. Generative Adversarial Networks\n",
            "4. Image generation\n",
            "5. Auto-Driving GAN (ADGAN)\n"
          ]
        }
      ],
      "source": [
        "import openai\n",
        "\n",
        "def handle_pdf_content(pdf_content):\n",
        "    # List of questions to be answered based on the PDF content\n",
        "    questions = [\n",
        "        \"What is the title of the PDF document?\",\n",
        "        \"Who are the authors of the PDF?\",\n",
        "        \"What is the main technology in the PDF\",\n",
        "        \"What are 5 important keywords of the PDF?\"\n",
        "    ]\n",
        "\n",
        "    # Constructing the prompt to include both rewriting and answering the questions\n",
        "    prompt = (\n",
        "        \"Here is the content from a PDF document. Please rewrite it for better clarity and conciseness. \"\n",
        "        \"After rewriting, please answer the following questions based on the content:\\n\\n\"\n",
        "        f\"PDF Content: {pdf_content}\\n\\n\"\n",
        "        \"Questions:\\n\" + \"\\n\".join(questions)\n",
        "    )\n",
        "\n",
        "    try:\n",
        "        response = openai.ChatCompletion.create(\n",
        "            model=\"gpt-3.5-turbo\",  # Updated model name to a current available model\n",
        "            messages=[{\"role\": \"system\", \"content\": prompt}],\n",
        "            max_tokens=800  # Increased token limit for more detailed responses\n",
        "        )\n",
        "        results = response.choices[0].message['content']\n",
        "        print(\"Rewritten PDF Content and Answers:\\n\", results)\n",
        "        return results\n",
        "    except Exception as e:\n",
        "        print(\"An error occurred while handling PDF content:\", e)\n",
        "        return None\n",
        "\n",
        "# Example usage with the actual extracted PDF content\n",
        "pdf_sample_content = load_pdf_content(pdf_path)  # Make sure this function is defined and correctly extracts text\n",
        "pdf_content = handle_pdf_content(pdf_sample_content)"
      ]
    },
    {
      "cell_type": "code",
      "execution_count": 21,
      "metadata": {
        "colab": {
          "base_uri": "https://localhost:8080/"
        },
        "id": "GhlKJTHdoGtO",
        "outputId": "3eb48948-0e67-43cc-c064-abdd516a8bba"
      },
      "outputs": [
        {
          "name": "stdout",
          "output_type": "stream",
          "text": [
            "Rewritten Website Content and Answers:\n",
            " Website Content:\n",
            "\n",
            "Germany – EU country profile | European Union\n",
            "Skip to main content\n",
            "\n",
            "Germany Overview:\n",
            "- Capital: Berlin\n",
            "- Official EU language(s): German\n",
            "- EU Member State: since 1 January 1958\n",
            "- Currency: euro (€), Euro area member since 1 January 1999\n",
            "- Schengen member since 26 March 1995\n",
            "- Geographical size: 357,569 km2\n",
            "- Population: 84,358,845 (2023)\n",
            "\n",
            "Political System:\n",
            "- Germany is a federal parliamentary republic with a chancellor as head of government and a president as head of state.\n",
            "- The country consists of 16 states (Länder), with 3 being city-states: Bremen, Berlin, and Hamburg.\n",
            "\n",
            "Trade and Economy:\n",
            "- Germany ranks eighth in the EU in terms of GDP per capita with €41,300, accounting for 25.3% of the EU's total GDP.\n",
            "\n",
            "Germany in the EU:\n",
            "- Representation in European Parliament, Council of the EU, and various EU bodies.\n",
            "- Germany communicates with EU institutions through its permanent representation in Brussels.\n",
            "\n",
            "Budgets and Funding:\n",
            "- EU budget contributions, benefits of EU membership, and EU-funded projects in Germany.\n",
            "\n",
            "Main idea: The website provides a detailed profile of Germany as an EU member country, covering its political system, trade, economy, EU representation, and budget contributions.\n",
            "\n",
            "Target audience: Individuals seeking information about Germany's role in the EU, students studying EU politics and economics, and policymakers interested in EU member countries.\n",
            "\n",
            "Key points: Overview of Germany's EU membership, political system, trade and economy statistics, representation in EU institutions, and budget contributions.\n",
            "\n",
            "Relation to current trends: The content reflects the importance of EU membership, economic contributions, and political representation within the Union, essential topics in the context of European integration and cooperation.\n",
            "\n",
            "Main conclusions: Germany plays a significant role in the EU, both economically and politically, contributing to the Union's budget and actively participating in various EU institutions and bodies to further European cooperation and integration.\n"
          ]
        }
      ],
      "source": [
        "import openai\n",
        "\n",
        "def handle_website_content(website_content):\n",
        "    # List of questions to be answered based on the website content\n",
        "    questions = [\n",
        "        \"What is the main idea of the website?\",\n",
        "        \"Who is the target audience of this website?\",\n",
        "        \"What are the key points discussed in the website?\",\n",
        "        \"How does the website content relate to current trends in its field?\",\n",
        "        \"What are the main conclusions of the website?\"\n",
        "    ]\n",
        "\n",
        "    # Constructing the prompt to include both rewriting and answering the questions\n",
        "    prompt = (\n",
        "        \"Here is content from a website. Please rewrite it for better clarity and conciseness. \"\n",
        "        \"After rewriting, please answer the following questions based on the content:\\n\\n\"\n",
        "        f\"Website Content: {website_content}\\n\\n\"\n",
        "        \"Questions:\\n\" + \"\\n\".join(questions)\n",
        "    )\n",
        "\n",
        "    try:\n",
        "        response = openai.ChatCompletion.create(\n",
        "            model=\"gpt-3.5-turbo\",  # Use the latest available model appropriate for your access\n",
        "            messages=[{\"role\": \"system\", \"content\": prompt}],\n",
        "            max_tokens=800  # Adjust token limit based on the expected complexity of the response\n",
        "        )\n",
        "        results = response.choices[0].message['content']\n",
        "        print(\"Rewritten Website Content and Answers:\\n\", results)\n",
        "        return results\n",
        "    except Exception as e:\n",
        "        print(\"An error occurred while handling website content:\", e)\n",
        "        return None\n",
        "html_sample_content = load_html_content('/content/germany.html')  # Make sure this path and function are correctly set up\n",
        "website_content = handle_website_content(html_sample_content)"
      ]
    },
    {
      "cell_type": "code",
      "execution_count": 22,
      "metadata": {
        "colab": {
          "base_uri": "https://localhost:8080/"
        },
        "id": "-7C-jha8j5mz",
        "outputId": "66a7e3b5-16f8-4fb2-d10c-cde2c3e11f5a"
      },
      "outputs": [
        {
          "name": "stdout",
          "output_type": "stream",
          "text": [
            "Chat Summary:\n",
            " The chat conversation revolved around a project with specific goals related to AI advancements. Content extracted from a PDF provided insights into AI advancements. Additionally, details from a website were discussed regarding the economic impact of AI technologies. Questions were asked and answered about the information gathered from both the PDF and the website.\n"
          ]
        }
      ],
      "source": [
        "def summarize_chat(chat_content):\n",
        "    prompt = (\n",
        "        \"Here is a transcript of a chat conversation where several topics were discussed, including details from a PDF and a website. \"\n",
        "        \"Based on this conversation, provide a concise summary of the main points discussed:\\n\\n\"\n",
        "        f\"Chat Content: {chat_content}\"\n",
        "    )\n",
        "\n",
        "    try:\n",
        "        response = openai.ChatCompletion.create(\n",
        "            model=\"gpt-3.5-turbo\",\n",
        "            messages=[{\"role\": \"system\", \"content\": prompt}],\n",
        "            max_tokens=300\n",
        "        )\n",
        "        summary = response.choices[0].message['content']\n",
        "        print(\"Chat Summary:\\n\", summary)\n",
        "        return summary\n",
        "    except Exception as e:\n",
        "        print(\"An error occurred while summarizing the chat:\", e)\n",
        "        return None\n",
        "\n",
        "# Example chat content as a sample\n",
        "chat_content = \"\"\"\n",
        "- Introduction to the project and its goals.\n",
        "- Discussion on the content extracted from the PDF regarding AI advancements.\n",
        "- Insights from the website about the economic impact of AI technologies.\n",
        "- Questions asked about the PDF and website content and responses provided.\n",
        "\"\"\"\n",
        "\n",
        "# Call the summarization function\n",
        "summary = summarize_chat(chat_content)\n"
      ]
    },
    {
      "cell_type": "code",
      "execution_count": 24,
      "metadata": {
        "colab": {
          "base_uri": "https://localhost:8080/"
        },
        "id": "b2JIV6JgkuoE",
        "outputId": "503fc632-381a-4715-8f2c-a527b1da45f8"
      },
      "outputs": [
        {
          "name": "stdout",
          "output_type": "stream",
          "text": [
            "Chat Summary:\n",
            " 1. Complex Math Problem Solution:\n",
            "- Solved the integral ∫e^x * sin(x) dx using integration by parts method.\n",
            "- Found the value of the integral evaluated at x = 3 to be approximately 4.114.\n",
            "\n",
            "2. Rewritten Content from a PDF:\n",
            "- Title: Privacy-Preserving Auto-Driving: a GAN-based Approach\n",
            "- Authors: Zuobin Xiong, Wei Li, Qilong Han, Zhipeng Cai\n",
            "- Main technology: Generative Adversarial Networks (GAN)\n",
            "- Keywords: Autonomous driving, Location privacy, GAN, Image generation, ADGAN\n",
            "\n",
            "3. Rewritten Content from a Website:\n",
            "- Provided a detailed profile of Germany as an EU member country.\n",
            "- Covered Germany's political system, trade and economy, EU representation, and budget contributions.\n",
            "- Target audience: Individuals seeking information about Germany's role in the EU, students, and policymakers.\n",
            "- Relation to current trends: Reflects the importance of EU membership and economic and political contributions within the Union.\n",
            "- Main conclusions: Germany plays a significant role in the EU, contributing economically and politically towards European cooperation and integration.\n"
          ]
        }
      ],
      "source": [
        "import openai\n",
        "\n",
        "def summarize_chat(derivative_solution, pdf_content, website_content):\n",
        "    # Assembling the prompt for the OpenAI API\n",
        "    prompt = (\n",
        "        \"Summarize the following chat interactions where several tasks were performed:\\n\\n\"\n",
        "        \"1. A complex math problem was solved. Here is the solution:\\n\"\n",
        "        f\"{integral_solution}\\n\\n\"\n",
        "        \"2. Content from a PDF was rewritten for better clarity and conciseness, and specific questions were answered based on the content. Here is the rewritten content and answers:\\n\"\n",
        "        f\"{pdf_content}\\n\\n\"\n",
        "        \"3. Content from a website was similarly rewritten and analyzed. Here is the rewritten content and answers:\\n\"\n",
        "        f\"{website_content}\\n\\n\"\n",
        "        \"Provide a concise summary of the main points discussed and the outcomes of each task.\"\n",
        "    )\n",
        "\n",
        "    try:\n",
        "        response = openai.ChatCompletion.create(\n",
        "            model=\"gpt-3.5-turbo\",  # Ensure you use an accessible model\n",
        "            messages=[{\"role\": \"system\", \"content\": prompt}],\n",
        "            max_tokens=300  # Adjust token limit based on the complexity of the summary needed\n",
        "        )\n",
        "        summary = response.choices[0].message['content']\n",
        "        print(\"Chat Summary:\\n\", summary)\n",
        "        return summary\n",
        "    except Exception as e:\n",
        "        # Provide detailed error messages to help with debugging\n",
        "        print(\"An error occurred while summarizing the chat:\", str(e))\n",
        "        return None\n",
        "\n",
        "\n",
        "# Generate the summary\n",
        "summary = summarize_chat(integral_solution, pdf_content, website_content)\n"
      ]
    },
    {
      "cell_type": "markdown",
      "metadata": {},
      "source": [
        "This notebook focuses on utilizing OpenAI's API to interact with a chatbot capable of handling complex tasks. It includes generating a sequence of chats on a given topic, solving a complex math problem, rewriting and answering questions about a PDF and a website document, and summarizing the entire conversation. The process leverages chatbot prompts designed to demonstrate advanced natural language processing capabilities within a structured dialogue format."
      ]
    },
    {
      "cell_type": "markdown",
      "metadata": {},
      "source": []
    }
  ],
  "metadata": {
    "accelerator": "GPU",
    "colab": {
      "gpuType": "V100",
      "machine_shape": "hm",
      "provenance": []
    },
    "kernelspec": {
      "display_name": "Python 3",
      "name": "python3"
    },
    "language_info": {
      "name": "python"
    }
  },
  "nbformat": 4,
  "nbformat_minor": 0
}
